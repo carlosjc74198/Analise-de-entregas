{
 "cells": [
  {
   "cell_type": "markdown",
   "metadata": {},
   "source": [
    "#### Importe das bibliotecas"
   ]
  },
  {
   "cell_type": "code",
   "execution_count": 1,
   "metadata": {},
   "outputs": [],
   "source": [
    "import pandas as pd\n",
    "import matplotlib.pyplot as plt\n",
    "import streamlit as st\n",
    "import plotly.express as px\n",
    "import plotly.graph_objects as go\n",
    "import datetime as dt\n",
    "import re\n"
   ]
  },
  {
   "cell_type": "markdown",
   "metadata": {},
   "source": [
    "#### Carregar os dados"
   ]
  },
  {
   "cell_type": "code",
   "execution_count": 2,
   "metadata": {},
   "outputs": [],
   "source": [
    "df = pd.read_csv('C:/Users/carlo/Desktop/Python_piva/Minhas análises/train2.csv')"
   ]
  },
  {
   "cell_type": "code",
   "execution_count": 3,
   "metadata": {},
   "outputs": [],
   "source": [
    "# Criando uma cópia do dataframe\n",
    "df1 = df.copy()"
   ]
  },
  {
   "cell_type": "code",
   "execution_count": null,
   "metadata": {},
   "outputs": [],
   "source": [
    "#df1 = df1.fillna(0)\n",
    "df1.isna().sum()\n",
    "df1\n"
   ]
  },
  {
   "cell_type": "code",
   "execution_count": 4,
   "metadata": {},
   "outputs": [],
   "source": [
    "# Removendo colunas que contém 'NaN'\n",
    "col = ['Delivery_person_Age', 'Delivery_person_Ratings', \n",
    "       'Order_Date', 'Time_Orderd', 'Time_Order_picked', \n",
    "       'multiple_deliveries', 'Festival', 'City', \n",
    "       'Road_traffic_density', 'Type_of_order', 'Type_of_vehicle']\n",
    "\n",
    "for coluna in col:\n",
    "    linhas_selecionadas = df1[coluna] != 'NaN '\n",
    "    df1 = df1.loc[linhas_selecionadas, :].copy()\n"
   ]
  },
  {
   "cell_type": "code",
   "execution_count": 5,
   "metadata": {},
   "outputs": [
    {
     "name": "stderr",
     "output_type": "stream",
     "text": [
      "C:\\Users\\carlo\\AppData\\Local\\Temp\\ipykernel_15860\\2051886209.py:9: UserWarning: Could not infer format, so each element will be parsed individually, falling back to `dateutil`. To ensure parsing is consistent and as-expected, please specify a format.\n",
      "  df1['Time_Orderd'] = pd.to_datetime(df1['Time_Orderd'])\n",
      "C:\\Users\\carlo\\AppData\\Local\\Temp\\ipykernel_15860\\2051886209.py:11: UserWarning: Could not infer format, so each element will be parsed individually, falling back to `dateutil`. To ensure parsing is consistent and as-expected, please specify a format.\n",
      "  df1['Time_Order_picked'] = pd.to_datetime(df1['Time_Order_picked'])\n"
     ]
    }
   ],
   "source": [
    "# Convertendo as colunas para o tipo correto\n",
    "\n",
    "df1['Delivery_person_Age'] = df1['Delivery_person_Age'].astype(int)\n",
    "\n",
    "df1['Delivery_person_Ratings'] = df1['Delivery_person_Ratings'].astype(float)\n",
    "\n",
    "df1['Order_Date'] = pd.to_datetime(df1['Order_Date'], format='%d-%m-%Y')\n",
    "\n",
    "df1['Time_Orderd'] = pd.to_datetime(df1['Time_Orderd'])\n",
    "\n",
    "df1['Time_Order_picked'] = pd.to_datetime(df1['Time_Order_picked'])\n",
    "\n",
    "df1['multiple_deliveries'] = df1['multiple_deliveries'].astype(int)\n",
    "\n",
    "#df1['Time_taken(min)'] = df1['Time_taken(min)'].astype(int)"
   ]
  },
  {
   "cell_type": "code",
   "execution_count": 6,
   "metadata": {},
   "outputs": [],
   "source": [
    "\n",
    "# Sparando apenas os valores numericos da coluna Time_taken(min)\n",
    "df1['Time_taken_numeric'] = df1['Time_taken(min)'].apply(lambda x: re.findall(r'\\d+', str(x))[0])\n",
    "\n",
    "# Convertendo para inteiro\n",
    "df1['Time_taken_numeric'] = df1['Time_taken_numeric'].astype(int)"
   ]
  },
  {
   "cell_type": "code",
   "execution_count": 7,
   "metadata": {},
   "outputs": [
    {
     "name": "stdout",
     "output_type": "stream",
     "text": [
      "A menor idade é: 20 anos\n",
      "A maior idade é: 39 anos\n"
     ]
    }
   ],
   "source": [
    "# Verificando o menor idade\n",
    "print('A menor idade é: {} anos'.format(df1.loc[:,'Delivery_person_Age'].min()))\n",
    "# Verificando a maior idade\n",
    "print('A maior idade é: {} anos'.format(df1.loc[:, 'Delivery_person_Age'].max()))"
   ]
  },
  {
   "cell_type": "code",
   "execution_count": 8,
   "metadata": {},
   "outputs": [
    {
     "name": "stdout",
     "output_type": "stream",
     "text": [
      "A pior condição é: 0\n",
      "A melhor condição é: 2\n"
     ]
    }
   ],
   "source": [
    "# verificação das condições dos veículos\n",
    "print('A pior condição é: {}'.format(df1.loc[:, 'Vehicle_condition'].min()))\n",
    "print('A melhor condição é: {}'.format(df1.loc[:, 'Vehicle_condition'].max()))"
   ]
  },
  {
   "cell_type": "code",
   "execution_count": null,
   "metadata": {},
   "outputs": [],
   "source": [
    "# Verificação da avaliação media dos entregadores\t\n",
    "media_por_entregadores = df1.loc[:, ['Delivery_person_Ratings', 'Delivery_person_ID']].groupby('Delivery_person_ID').mean().reset_index()\n",
    "media_por_entregadores"
   ]
  },
  {
   "cell_type": "code",
   "execution_count": null,
   "metadata": {},
   "outputs": [],
   "source": [
    "# Verificação da avaliação media e desvio padrao dos entreagadores\n",
    "media_avg_std = (df1.loc[:, ['Delivery_person_Ratings','Road_traffic_density']]\n",
    "                            .groupby('Road_traffic_density')\n",
    "                            .agg({'Delivery_person_Ratings': ['mean', 'std']}).reset_index())\n",
    "media_avg_std"
   ]
  },
  {
   "cell_type": "code",
   "execution_count": null,
   "metadata": {},
   "outputs": [],
   "source": [
    "# Verificação da avaliação media e desvio padrao dos entregadores 2\n",
    "media_avg_std = (df1[['Delivery_person_Ratings', 'Road_traffic_density']]\n",
    "                 .groupby('Road_traffic_density')\n",
    "                 .agg(Delivery_person_Ratings_mean=('Delivery_person_Ratings', 'mean'),\n",
    "                      Delivery_person_Ratings_std=('Delivery_person_Ratings', 'std'))\n",
    "                 .reset_index())\n",
    "media_avg_std"
   ]
  },
  {
   "cell_type": "code",
   "execution_count": null,
   "metadata": {},
   "outputs": [],
   "source": [
    "# Verificação da avaliação media e desvio padrao condições climáticas\n",
    "media_std_weater = (df1.loc[:, ['Delivery_person_Ratings', 'Weatherconditions']]\n",
    "                    .groupby('Weatherconditions')\n",
    "                    .agg({'Delivery_person_Ratings' : ['mean', 'std']})\n",
    "                    .reset_index())\n",
    "media_std_weater"
   ]
  },
  {
   "cell_type": "code",
   "execution_count": null,
   "metadata": {},
   "outputs": [],
   "source": [
    "# Verificação da avaliação media e dos 10 entregadores mais rápidos\n",
    "entregador_rapido = (df1[['Delivery_person_ID', 'City', 'Time_taken_numeric']]\n",
    "                     .groupby(['City', 'Delivery_person_ID'])\n",
    "                     .max()\n",
    "                     .reset_index()\n",
    "                     .sort_values(['City', 'Time_taken_numeric'])\n",
    "                     .reset_index(drop=True))\n",
    "entregador_rapido.head(10)"
   ]
  },
  {
   "cell_type": "code",
   "execution_count": null,
   "metadata": {},
   "outputs": [],
   "source": [
    "# Verificação da avaliação media e dos 10 entregadores mais lentos\n",
    "entregador_lento = (df1[['Delivery_person_ID', 'City', 'Time_taken_numeric']]\n",
    "                    .groupby(['City', 'Delivery_person_ID'])\n",
    "                    .min()\n",
    "                    .reset_index()\n",
    "                    .sort_values(['City', 'Time_taken_numeric'])\n",
    "                    .reset_index(drop=True))\n",
    "entregador_lento.head(10)"
   ]
  },
  {
   "cell_type": "code",
   "execution_count": null,
   "metadata": {},
   "outputs": [],
   "source": [
    "# Verificação da avaliação media e desvio padrao dos entregadores por trafego\n",
    "media_entrega_trafico = (df1.loc[:, ['Delivery_person_Ratings', 'Road_traffic_density']]\n",
    "                         .groupby(['Road_traffic_density'])\n",
    "                         .mean()\n",
    "                         .reset_index())\n",
    "media_entrega_trafico"
   ]
  },
  {
   "cell_type": "code",
   "execution_count": null,
   "metadata": {},
   "outputs": [],
   "source": [
    "\n",
    "col = ['Time_taken_numeric', 'Festival']\n",
    "media_entrega_festival = df1.loc[:, col].groupby('Festival').agg({'Time_taken_numeric': ['mean', 'std']})\n",
    "media_entrega_festival"
   ]
  }
 ],
 "metadata": {
  "kernelspec": {
   "display_name": "Python 3",
   "language": "python",
   "name": "python3"
  },
  "language_info": {
   "codemirror_mode": {
    "name": "ipython",
    "version": 3
   },
   "file_extension": ".py",
   "mimetype": "text/x-python",
   "name": "python",
   "nbconvert_exporter": "python",
   "pygments_lexer": "ipython3",
   "version": "3.12.4"
  }
 },
 "nbformat": 4,
 "nbformat_minor": 2
}
