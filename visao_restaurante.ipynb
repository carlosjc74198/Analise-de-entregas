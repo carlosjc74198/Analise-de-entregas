{
 "cells": [
  {
   "cell_type": "code",
   "execution_count": 1,
   "metadata": {},
   "outputs": [],
   "source": [
    "import pandas as pd\n",
    "import matplotlib.pyplot as plt\n",
    "import streamlit as st\n",
    "import plotly.express as px\n",
    "import plotly.graph_objects as go\n",
    "import datetime as dt\n",
    "from haversine import haversine \n",
    "import re\n",
    "import numpy as np"
   ]
  },
  {
   "cell_type": "code",
   "execution_count": 2,
   "metadata": {},
   "outputs": [],
   "source": [
    "df = pd.read_csv('C:/Users/carlo/Desktop/Python_piva/Curry company/train2.csv')"
   ]
  },
  {
   "cell_type": "code",
   "execution_count": 3,
   "metadata": {},
   "outputs": [],
   "source": [
    "df1 = df.copy()"
   ]
  },
  {
   "cell_type": "code",
   "execution_count": 5,
   "metadata": {},
   "outputs": [],
   "source": [
    "# Removendo colunas que contém 'NaN'\n",
    "\n",
    "coluna = ['Delivery_person_Age', 'Road_traffic_density', \n",
    "\t\t  'Festival', 'City', 'multiple_deliveries', \n",
    "    \t  'Delivery_person_Ratings', 'Time_taken(min)']\n",
    "\n",
    "for col in coluna:\n",
    "    linhas_selecionadas = df1[col] != 'NaN '\n",
    "    df1 = df1.loc[linhas_selecionadas, :].copy()\n",
    "    "
   ]
  },
  {
   "cell_type": "code",
   "execution_count": 6,
   "metadata": {},
   "outputs": [
    {
     "name": "stderr",
     "output_type": "stream",
     "text": [
      "C:\\Users\\carlo\\AppData\\Local\\Temp\\ipykernel_6740\\2051886209.py:9: UserWarning: Could not infer format, so each element will be parsed individually, falling back to `dateutil`. To ensure parsing is consistent and as-expected, please specify a format.\n",
      "  df1['Time_Orderd'] = pd.to_datetime(df1['Time_Orderd'])\n",
      "C:\\Users\\carlo\\AppData\\Local\\Temp\\ipykernel_6740\\2051886209.py:11: UserWarning: Could not infer format, so each element will be parsed individually, falling back to `dateutil`. To ensure parsing is consistent and as-expected, please specify a format.\n",
      "  df1['Time_Order_picked'] = pd.to_datetime(df1['Time_Order_picked'])\n"
     ]
    }
   ],
   "source": [
    "# Convertendo as colunas para o tipo correto\n",
    "\n",
    "df1['Delivery_person_Age'] = df1['Delivery_person_Age'].astype(int)\n",
    "\n",
    "df1['Delivery_person_Ratings'] = df1['Delivery_person_Ratings'].astype(float)\n",
    "\n",
    "df1['Order_Date'] = pd.to_datetime(df1['Order_Date'], format='%d-%m-%Y')\n",
    "\n",
    "df1['Time_Orderd'] = pd.to_datetime(df1['Time_Orderd'])\n",
    "\n",
    "df1['Time_Order_picked'] = pd.to_datetime(df1['Time_Order_picked'])\n",
    "\n",
    "df1['multiple_deliveries'] = df1['multiple_deliveries'].astype(int)\n",
    "\n",
    "#df1['Time_taken(min)'] = df1['Time_taken(min)'].astype(int)"
   ]
  },
  {
   "cell_type": "code",
   "execution_count": 7,
   "metadata": {},
   "outputs": [],
   "source": [
    "# Limpando a coluna 'Time_taken(min)'\n",
    "# Assumindo que seu DataFrame se chama df1\n",
    "df1['Time_taken_numeric'] = df1['Time_taken(min)'].apply(lambda x: re.findall(r'\\d+', str(x))[0])\n",
    "\n",
    "# Convertendo para inteiro\n",
    "df1['Time_taken_numeric'] = df1['Time_taken_numeric'].astype(int)"
   ]
  },
  {
   "cell_type": "code",
   "execution_count": null,
   "metadata": {},
   "outputs": [],
   "source": [
    "df1.head()"
   ]
  },
  {
   "cell_type": "code",
   "execution_count": 8,
   "metadata": {},
   "outputs": [
    {
     "data": {
      "text/plain": [
       "1320"
      ]
     },
     "execution_count": 8,
     "metadata": {},
     "output_type": "execute_result"
    }
   ],
   "source": [
    "# Entregas unicas\n",
    "entregas_unicas = len(df1.loc[:, 'Delivery_person_ID'].unique())\n",
    "\n",
    "entregas_unicas"
   ]
  },
  {
   "cell_type": "code",
   "execution_count": 9,
   "metadata": {},
   "outputs": [
    {
     "name": "stdout",
     "output_type": "stream",
     "text": [
      "A distância média das entregas é: 26.91\n"
     ]
    }
   ],
   "source": [
    "# Distância média dos restaurantes e dos locais de entrega\n",
    "col = ['Restaurant_latitude', 'Restaurant_longitude', 'Delivery_location_latitude', 'Delivery_location_longitude']\n",
    "\n",
    "df1['Distance'] = df1[col].apply(lambda x: haversine(\n",
    "    (x['Restaurant_latitude'], x['Restaurant_longitude']),\n",
    "    (x['Delivery_location_latitude'], x['Delivery_location_longitude'])\n",
    "), axis=1)\n",
    "\n",
    "media_distancia = df1['Distance'].mean()\n",
    "\n",
    "print('A distância média das entregas é: {:.2f}'.format(media_distancia))\n"
   ]
  },
  {
   "cell_type": "code",
   "execution_count": null,
   "metadata": {},
   "outputs": [],
   "source": [
    "# Distância média dos restaurantes e dos locais de entrega\n",
    "col = ['Restaurant_latitude','Restaurant_longitude', 'Delivery_location_latitude', 'Delivery_location_longitude']\n",
    "\n",
    "media_distancia =df1['Distance'] = df1[col].apply(lambda x: haversine( \n",
    "    (x['Restaurant_latitude'],x['Restaurant_longitude']),\n",
    "    (x['Delivery_location_latitude'], x['Delivery_location_longitude']), \n",
    "\t), axis=1)\n",
    "media_distancia = df1.loc[:, ['City', 'Distance']].groupby('City').mean().reset_index()\n",
    "\n",
    "fig = go.Figure(data=[go.Pie(labels=media_distancia['City'], values=media_distancia['Distance'], pull=[0.02, 0.1, 0.02], title='Distância Média entre Restaurantes e Local de Entrega')])\n",
    "fig.show()"
   ]
  },
  {
   "cell_type": "code",
   "execution_count": null,
   "metadata": {},
   "outputs": [],
   "source": [
    "# Média de entregas por Cidade\n",
    "col = ['Time_taken_numeric', 'City']\n",
    "media_entrega_cidade = df1.loc[:, col].groupby('City').agg({'Time_taken_numeric': ['mean', 'std']})\n",
    "\n",
    "media_entrega_cidade.columns =['Media_tempo', 'Desvio_tempo']\n",
    "\n",
    "media_entrega = media_entrega_cidade.reset_index()\n",
    "\n",
    "media_entrega"
   ]
  },
  {
   "cell_type": "code",
   "execution_count": null,
   "metadata": {},
   "outputs": [],
   "source": [
    "col = ['Time_taken_numeric', 'City']\n",
    "\n",
    "media_entrega_cidade= df1.loc[:, col].groupby('City').agg({'Time_taken_numeric': ['mean', 'std']})\n",
    "\n",
    "fig = px.box(df1, x='City', y='Time_taken_numeric', title='Distribuição de Tempo de Entrega por Cidade')\n",
    "fig.show()"
   ]
  },
  {
   "cell_type": "code",
   "execution_count": null,
   "metadata": {},
   "outputs": [],
   "source": [
    "# média de entregas por tipo de pedido\n",
    "col = ['Time_taken_numeric', 'City', 'Type_of_order']\n",
    "media_entrega_cidade = df1.loc[:, col].groupby(['City', 'Type_of_order']).agg({'Time_taken_numeric': ['mean', 'std']})\n",
    "\n",
    "media_entrega_cidade.columns =['Media_tempo', 'Desvio_tempo']\n",
    "\n",
    "media_entrega = media_entrega_cidade.reset_index()\n",
    "\n",
    "media_entrega"
   ]
  },
  {
   "cell_type": "code",
   "execution_count": null,
   "metadata": {},
   "outputs": [],
   "source": [
    "#Média de entregas por tipo de tráfego\n",
    "col = ['Time_taken_numeric', 'City', 'Road_traffic_density']\n",
    "\n",
    "media_entrega_cidade = df1.loc[:, col].groupby(['City', 'Road_traffic_density']).agg({'Time_taken_numeric': ['mean', 'std']})\n",
    "\n",
    "media_entrega_cidade.columns = ['Media_tempo', 'Desvio_tempo']\n",
    "\n",
    "media_entrega = media_entrega_cidade.reset_index()\n",
    "\n",
    "media_entrega"
   ]
  },
  {
   "cell_type": "code",
   "execution_count": null,
   "metadata": {},
   "outputs": [],
   "source": [
    "#Média de entregas por tipo de tráfego\n",
    "col = ['Time_taken_numeric', 'City', 'Road_traffic_density']\n",
    "media_entrega_cidade = df1.loc[:, col].groupby(['City', 'Road_traffic_density']).agg({'Time_taken_numeric': ['mean', 'std']})\n",
    "\n",
    "media_entrega_cidade.columns = ['Media_tempo', 'Desvio_tempo']\n",
    "\n",
    "media_entrega = media_entrega_cidade.reset_index()\n",
    "\n",
    "fig = px.sunburst(media_entrega, path=['Road_traffic_density', 'City'], values='Media_tempo', color_continuous_scale='RdBu')           \n",
    "\n",
    "fig.show()\n"
   ]
  },
  {
   "cell_type": "code",
   "execution_count": null,
   "metadata": {},
   "outputs": [],
   "source": [
    "# Entregas por festival\n",
    "col = ['Time_taken_numeric', 'Festival']\n",
    "media_entrega_festival = df1.loc[:, col].groupby('Festival').agg({'Time_taken_numeric': ['mean', 'std']})\n",
    "\n",
    "media_entrega_festival.columns = ['Media_tempo', 'Desvio_tempo']\n",
    "\n",
    "media_entrega = media_entrega_festival.reset_index()\n",
    "\n",
    "linhas_selecionadas = media_entrega['Festival'] == 'Yes '\n",
    "media_entrega =media_entrega.loc[linhas_selecionadas,: ]\n",
    "\n",
    "media_entrega\n",
    "\n"
   ]
  }
 ],
 "metadata": {
  "kernelspec": {
   "display_name": "Python 3",
   "language": "python",
   "name": "python3"
  },
  "language_info": {
   "codemirror_mode": {
    "name": "ipython",
    "version": 3
   },
   "file_extension": ".py",
   "mimetype": "text/x-python",
   "name": "python",
   "nbconvert_exporter": "python",
   "pygments_lexer": "ipython3",
   "version": "3.12.4"
  }
 },
 "nbformat": 4,
 "nbformat_minor": 2
}
